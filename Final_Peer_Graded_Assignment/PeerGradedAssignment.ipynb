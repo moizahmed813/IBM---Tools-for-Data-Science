{
  "nbformat": 4,
  "nbformat_minor": 0,
  "metadata": {
    "colab": {
      "provenance": [],
      "authorship_tag": "ABX9TyNjQifGIjVOZ0BxVjWlTHB4",
      "include_colab_link": true
    },
    "kernelspec": {
      "name": "python3",
      "display_name": "Python 3"
    },
    "language_info": {
      "name": "python"
    }
  },
  "cells": [
    {
      "cell_type": "markdown",
      "metadata": {
        "id": "view-in-github",
        "colab_type": "text"
      },
      "source": [
        "<a href=\"https://colab.research.google.com/github/moizahmed813/IBM-Tools-for-Data-Science/blob/main/Final_Peer_Graded_Assignment/PeerGradedAssignment.ipynb\" target=\"_parent\"><img src=\"https://colab.research.google.com/assets/colab-badge.svg\" alt=\"Open In Colab\"/></a>"
      ]
    },
    {
      "cell_type": "markdown",
      "source": [
        "# **Peer-Graded Assignment:**\n",
        "\n",
        "I have successfully completed all lectures, quizzes and assignments for the course of \"Tools for Data Science\". This assignment is to create a Jupyter Notebook with combo of code cells and markdown."
      ],
      "metadata": {
        "id": "oOZyWE_V6HZo"
      }
    },
    {
      "cell_type": "markdown",
      "source": [
        "**There are total 25 points for this final assignment. I hope that i will ace based on following exercises.**"
      ],
      "metadata": {
        "id": "zXCtNCFZ6pO_"
      }
    },
    {
      "cell_type": "markdown",
      "source": [
        "# **Exercise 1:** Create a Jupyter Notebook\n",
        "\n",
        "**Name:** Peer_Graded Assignment"
      ],
      "metadata": {
        "id": "1JLAwvuf68wo"
      }
    },
    {
      "cell_type": "markdown",
      "source": [
        "**Exercise 2:** Create a markdown cell with title of the notebook\n",
        "\n",
        "# **Data Science Tools and Ecosystem**"
      ],
      "metadata": {
        "id": "E8tXW0uJ7fSI"
      }
    },
    {
      "cell_type": "markdown",
      "source": [
        "**Exercise 3**: Create a markdown cell for an introduction\n",
        "\n",
        "In this Jupyter Notebook we are observing Data Science Tools and Ecosystem in detail:\n",
        "\n",
        "**Objectives:**\n",
        "\n",
        "\n",
        "1.   Listing popular languages used in Data Science.\n",
        "2.   List commonly used libraries in Data Science.\n",
        "3.   Comments on Data Science tools.\n",
        "\n"
      ],
      "metadata": {
        "id": "g4WkR2uj7_8n"
      }
    },
    {
      "cell_type": "markdown",
      "source": [
        "**Exercise 4:** Create markdown cell to list Data Science languages:\n",
        "\n",
        "\n",
        "\n",
        "1.   Python\n",
        "2.   R\n",
        "3. SQL\n",
        "4. Java\n",
        "5. Julia\n",
        "6. Scalia\n",
        "7. C/C++\n",
        "8. JavaScript\n",
        "\n"
      ],
      "metadata": {
        "id": "bAyDTcV-8xMK"
      }
    },
    {
      "cell_type": "markdown",
      "source": [
        "**Exercise 5:** Create a markdown cell to list Data Science libraries:\n",
        "\n",
        "1. TenserFlow\n",
        "2. Numpy\n",
        "3. SciPy\n",
        "4. Pandas\n",
        "5. MatplotLib\n",
        "6. Keras\n",
        "7. SciKit-Learn\n",
        "8. PyTorch\n",
        "9. Scrapy\n",
        "10. ELIS\n"
      ],
      "metadata": {
        "id": "333Gcdlk9cz5"
      }
    },
    {
      "cell_type": "markdown",
      "source": [
        "**Exercise 6:** Create a markdown cell with a table of Data Science tools.\n",
        "\n",
        "\n",
        "\n",
        "**Data Science Tools:**\n",
        "\n",
        "\n",
        "*   SAS - Specifically designed for statistical operations\n",
        "*   Apache Spark\n",
        "\n",
        "\n",
        "*   BigML\n",
        "\n",
        "\n",
        "\n",
        "\n",
        "\n",
        "\n",
        "\n"
      ],
      "metadata": {
        "id": "9OCg2xUX9-jZ"
      }
    },
    {
      "cell_type": "markdown",
      "source": [
        "**Exercise 7:** Create a markdown cell introducing arithematic expressions\n",
        "\n",
        "**Examples:**"
      ],
      "metadata": {
        "id": "EqnqHMs7AhFs"
      }
    },
    {
      "cell_type": "code",
      "source": [
        "#Arithematic operations\n",
        "code = compile(\"5+4\", \"<string>\", \"eval\")\n",
        "eval(code)"
      ],
      "metadata": {
        "colab": {
          "base_uri": "https://localhost:8080/"
        },
        "id": "MDFuf9CVBA-w",
        "outputId": "056fd032-7945-4e1c-b726-c153ef4bd533"
      },
      "execution_count": 2,
      "outputs": [
        {
          "output_type": "execute_result",
          "data": {
            "text/plain": [
              "9"
            ]
          },
          "metadata": {},
          "execution_count": 2
        }
      ]
    },
    {
      "cell_type": "code",
      "source": [
        "code1 = compile(\"(5+7)*2\", \"<string>\", \"eval\")\n",
        "eval(code1)"
      ],
      "metadata": {
        "colab": {
          "base_uri": "https://localhost:8080/"
        },
        "id": "LbEkRa0-BT9C",
        "outputId": "b6b8df4d-cab0-4f32-c0a5-a7e09fb2de91"
      },
      "execution_count": 3,
      "outputs": [
        {
          "output_type": "execute_result",
          "data": {
            "text/plain": [
              "24"
            ]
          },
          "metadata": {},
          "execution_count": 3
        }
      ]
    },
    {
      "cell_type": "markdown",
      "source": [
        "**Exercise 8:** Create a code cell to multiply and add numbers"
      ],
      "metadata": {
        "id": "nmVlbBpkMkNx"
      }
    },
    {
      "cell_type": "code",
      "source": [
        "(3*4)+5"
      ],
      "metadata": {
        "colab": {
          "base_uri": "https://localhost:8080/"
        },
        "id": "pp9vnltsMx_N",
        "outputId": "bfac7712-bed6-42df-f66a-68c20ba26ab3"
      },
      "execution_count": 4,
      "outputs": [
        {
          "output_type": "execute_result",
          "data": {
            "text/plain": [
              "17"
            ]
          },
          "metadata": {},
          "execution_count": 4
        }
      ]
    },
    {
      "cell_type": "markdown",
      "source": [
        "**Exercise 9:** Create a code cellto convert minutes to hours."
      ],
      "metadata": {
        "id": "kjsZniHDNHEm"
      }
    },
    {
      "cell_type": "code",
      "source": [
        "days = 0\n",
        "hours = 0\n",
        "minutes = 0\n",
        "time = 200\n",
        "left_minutes = time % 1440\n",
        "hours = left_minutes  / 60\n",
        "print(str(days) + \"days, \" + str(hours) + \"hours, \" +str(minutes) + \"minutes. \")"
      ],
      "metadata": {
        "colab": {
          "base_uri": "https://localhost:8080/"
        },
        "id": "Ht0a8BYhNRrr",
        "outputId": "08242e83-916f-47e8-d83d-c034a166fa7e"
      },
      "execution_count": 5,
      "outputs": [
        {
          "output_type": "stream",
          "name": "stdout",
          "text": [
            "0days, 3.3333333333333335hours, 0minutes. \n"
          ]
        }
      ]
    },
    {
      "cell_type": "markdown",
      "source": [
        "**Exercise 10:** Create markdown cell to list objectives\n",
        "\n",
        "Inserted below the exercise 3."
      ],
      "metadata": {
        "id": "ZyMbtmXkN8UJ"
      }
    },
    {
      "cell_type": "markdown",
      "source": [
        "**Exercise 11:** Create a markdown cell to indicate the Author's Name\n",
        "\n",
        "# Author\n",
        "**Moiz Ahmed**"
      ],
      "metadata": {
        "id": "n6_jKqIkOLnq"
      }
    },
    {
      "cell_type": "code",
      "source": [],
      "metadata": {
        "id": "Y3zb4accOemO"
      },
      "execution_count": null,
      "outputs": []
    }
  ]
}